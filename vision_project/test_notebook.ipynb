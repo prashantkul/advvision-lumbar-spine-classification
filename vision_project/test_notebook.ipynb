{
 "cells": [
  {
   "cell_type": "markdown",
   "metadata": {},
   "source": [
    "# Test notebook\n"
   ]
  },
  {
   "cell_type": "code",
   "execution_count": 1,
   "metadata": {},
   "outputs": [],
   "source": [
    "%load_ext autoreload\n",
    "%autoreload 1"
   ]
  },
  {
   "cell_type": "code",
   "execution_count": 2,
   "metadata": {},
   "outputs": [
    {
     "name": "stderr",
     "output_type": "stream",
     "text": [
      "2024-07-21 23:25:29.722580: E external/local_xla/xla/stream_executor/cuda/cuda_dnn.cc:10575] Unable to register cuDNN factory: Attempting to register factory for plugin cuDNN when one has already been registered\n",
      "2024-07-21 23:25:29.722632: E external/local_xla/xla/stream_executor/cuda/cuda_fft.cc:479] Unable to register cuFFT factory: Attempting to register factory for plugin cuFFT when one has already been registered\n",
      "2024-07-21 23:25:29.724595: E external/local_xla/xla/stream_executor/cuda/cuda_blas.cc:1442] Unable to register cuBLAS factory: Attempting to register factory for plugin cuBLAS when one has already been registered\n",
      "2024-07-21 23:25:29.731935: I tensorflow/core/platform/cpu_feature_guard.cc:210] This TensorFlow binary is optimized to use available CPU instructions in performance-critical operations.\n",
      "To enable the following instructions: SSE4.1 SSE4.2 AVX AVX2 FMA, in other operations, rebuild TensorFlow with the appropriate compiler flags.\n"
     ]
    },
    {
     "name": "stdout",
     "output_type": "stream",
     "text": [
      "Python version: 3.11.9 | packaged by conda-forge | (main, Apr 19 2024, 18:36:13) [GCC 12.3.0]\n",
      "Tensorflow version: 2.16.2\n",
      "[PhysicalDevice(name='/physical_device:GPU:0', device_type='GPU')]\n"
     ]
    },
    {
     "name": "stderr",
     "output_type": "stream",
     "text": [
      "2024-07-21 23:25:31.854741: I external/local_xla/xla/stream_executor/cuda/cuda_executor.cc:998] successful NUMA node read from SysFS had negative value (-1), but there must be at least one NUMA node, so returning NUMA node zero. See more at https://github.com/torvalds/linux/blob/v6.0/Documentation/ABI/testing/sysfs-bus-pci#L344-L355\n",
      "2024-07-21 23:25:31.903395: I external/local_xla/xla/stream_executor/cuda/cuda_executor.cc:998] successful NUMA node read from SysFS had negative value (-1), but there must be at least one NUMA node, so returning NUMA node zero. See more at https://github.com/torvalds/linux/blob/v6.0/Documentation/ABI/testing/sysfs-bus-pci#L344-L355\n",
      "2024-07-21 23:25:31.907247: I external/local_xla/xla/stream_executor/cuda/cuda_executor.cc:998] successful NUMA node read from SysFS had negative value (-1), but there must be at least one NUMA node, so returning NUMA node zero. See more at https://github.com/torvalds/linux/blob/v6.0/Documentation/ABI/testing/sysfs-bus-pci#L344-L355\n"
     ]
    }
   ],
   "source": [
    "from vision_models.utils import VisionUtils\n",
    "\n",
    "vutil = VisionUtils()    \n",
    "vutil.set_seed()\n",
    "vutil.print_python_version()\n",
    "vutil.print_tf_version()\n",
    "vutil.print_tf_gpu_support()\n",
    "\n",
    "\n",
    "\n"
   ]
  },
  {
   "cell_type": "code",
   "execution_count": 4,
   "metadata": {},
   "outputs": [
    {
     "name": "stdout",
     "output_type": "stream",
     "text": [
      "/opt/conda/envs/vision/bin/python\n",
      "Reading CSV file /opt/dataset/train.csv\n",
      "Reading CSV file /opt/dataset/train_series_descriptions.csv\n",
      "Reading CSV file /opt/dataset/train_label_coordinates.csv\n",
      "Maximum number of subdirectories across all studies: 6\n",
      "Shape of the DataFrame: (1975, 26)\n",
      "Columns of the DataFrame: Index(['study_id', 'spinal_canal_stenosis_l1_l2',\n",
      "       'spinal_canal_stenosis_l2_l3', 'spinal_canal_stenosis_l3_l4',\n",
      "       'spinal_canal_stenosis_l4_l5', 'spinal_canal_stenosis_l5_s1',\n",
      "       'left_neural_foraminal_narrowing_l1_l2',\n",
      "       'left_neural_foraminal_narrowing_l2_l3',\n",
      "       'left_neural_foraminal_narrowing_l3_l4',\n",
      "       'left_neural_foraminal_narrowing_l4_l5',\n",
      "       'left_neural_foraminal_narrowing_l5_s1',\n",
      "       'right_neural_foraminal_narrowing_l1_l2',\n",
      "       'right_neural_foraminal_narrowing_l2_l3',\n",
      "       'right_neural_foraminal_narrowing_l3_l4',\n",
      "       'right_neural_foraminal_narrowing_l4_l5',\n",
      "       'right_neural_foraminal_narrowing_l5_s1',\n",
      "       'left_subarticular_stenosis_l1_l2', 'left_subarticular_stenosis_l2_l3',\n",
      "       'left_subarticular_stenosis_l3_l4', 'left_subarticular_stenosis_l4_l5',\n",
      "       'left_subarticular_stenosis_l5_s1', 'right_subarticular_stenosis_l1_l2',\n",
      "       'right_subarticular_stenosis_l2_l3',\n",
      "       'right_subarticular_stenosis_l3_l4',\n",
      "       'right_subarticular_stenosis_l4_l5',\n",
      "       'right_subarticular_stenosis_l5_s1'],\n",
      "      dtype='object')\n",
      "Analyzing NaN values in the dataset\n",
      "Analyzing NaN values in the dataset:\n",
      "Total NaN values in the dataset: 0\n",
      "\n",
      "NaN counts per column:\n",
      "\n",
      "Percentage of NaN values per column:\n",
      "\n",
      "No rows with NaN values found in the dataset.\n",
      "No NaN values found. Proceeding with dataset creation.\n",
      "Going to encode labels\n",
      "Creating initial dataset\n"
     ]
    },
    {
     "name": "stderr",
     "output_type": "stream",
     "text": [
      "2024-07-21 23:25:45.648522: I external/local_xla/xla/stream_executor/cuda/cuda_executor.cc:998] successful NUMA node read from SysFS had negative value (-1), but there must be at least one NUMA node, so returning NUMA node zero. See more at https://github.com/torvalds/linux/blob/v6.0/Documentation/ABI/testing/sysfs-bus-pci#L344-L355\n",
      "2024-07-21 23:25:45.653576: I external/local_xla/xla/stream_executor/cuda/cuda_executor.cc:998] successful NUMA node read from SysFS had negative value (-1), but there must be at least one NUMA node, so returning NUMA node zero. See more at https://github.com/torvalds/linux/blob/v6.0/Documentation/ABI/testing/sysfs-bus-pci#L344-L355\n",
      "2024-07-21 23:25:45.656911: I external/local_xla/xla/stream_executor/cuda/cuda_executor.cc:998] successful NUMA node read from SysFS had negative value (-1), but there must be at least one NUMA node, so returning NUMA node zero. See more at https://github.com/torvalds/linux/blob/v6.0/Documentation/ABI/testing/sysfs-bus-pci#L344-L355\n",
      "2024-07-21 23:25:45.976607: I external/local_xla/xla/stream_executor/cuda/cuda_executor.cc:998] successful NUMA node read from SysFS had negative value (-1), but there must be at least one NUMA node, so returning NUMA node zero. See more at https://github.com/torvalds/linux/blob/v6.0/Documentation/ABI/testing/sysfs-bus-pci#L344-L355\n",
      "2024-07-21 23:25:45.978881: I external/local_xla/xla/stream_executor/cuda/cuda_executor.cc:998] successful NUMA node read from SysFS had negative value (-1), but there must be at least one NUMA node, so returning NUMA node zero. See more at https://github.com/torvalds/linux/blob/v6.0/Documentation/ABI/testing/sysfs-bus-pci#L344-L355\n",
      "2024-07-21 23:25:45.980966: I external/local_xla/xla/stream_executor/cuda/cuda_executor.cc:998] successful NUMA node read from SysFS had negative value (-1), but there must be at least one NUMA node, so returning NUMA node zero. See more at https://github.com/torvalds/linux/blob/v6.0/Documentation/ABI/testing/sysfs-bus-pci#L344-L355\n",
      "2024-07-21 23:25:45.982962: I tensorflow/core/common_runtime/gpu/gpu_device.cc:1928] Created device /job:localhost/replica:0/task:0/device:GPU:0 with 13764 MB memory:  -> device: 0, name: Tesla T4, pci bus id: 0000:00:04.0, compute capability: 7.5\n"
     ]
    },
    {
     "name": "stdout",
     "output_type": "stream",
     "text": [
      "Splitting dataset\n",
      "Dataset created\n"
     ]
    }
   ],
   "source": [
    "import sys\n",
    "print(sys.executable)\n",
    "import tensorflow as tf\n",
    "\n",
    "from vision_models.dataset import VisionDataset\n",
    "\n",
    "vision_ds = VisionDataset()\n",
    "train_dataset, val_dataset, encoders = vision_ds.create_dataset(batch_size=1)"
   ]
  },
  {
   "cell_type": "code",
   "execution_count": 7,
   "metadata": {},
   "outputs": [
    {
     "name": "stdout",
     "output_type": "stream",
     "text": [
      "Sample labels: [[1 1 1 1 1 1 1 1 1 1 1 1 1 1 1 1 1 1 1 1 1 1 1 1 1]]\n",
      "\n",
      "Sample labels: [[1 1 1 1 1 1 1 1 0 2 1 1 0 0 1 1 1 1 1 1 1 1 0 0 0]]\n",
      "\n",
      "Sample labels: [[1 1 1 1 1 1 1 1 1 1 1 1 1 1 1 1 1 1 1 1 1 1 1 1 1]]\n",
      "\n",
      "Sample labels: [[1 0 0 1 1 1 1 1 0 0 1 1 0 1 0 1 1 0 0 0 0 2 2 0 2]]\n",
      "\n",
      "Sample labels: [[1 1 1 1 1 1 1 1 1 1 1 1 0 0 1 1 1 1 1 1 1 1 0 0 1]]\n",
      "\n"
     ]
    },
    {
     "name": "stderr",
     "output_type": "stream",
     "text": [
      "2024-07-21 23:23:01.366849: W tensorflow/core/framework/local_rendezvous.cc:404] Local rendezvous is aborting with status: OUT_OF_RANGE: End of sequence\n"
     ]
    }
   ],
   "source": [
    "# if train_dataset is not None:\n",
    "#     for data, labels in train_dataset.take(5):  # Look at 5 samples\n",
    "#             print(\"Sample labels:\", labels.numpy())\n",
    "#             print()"
   ]
  },
  {
   "cell_type": "code",
   "execution_count": 5,
   "metadata": {},
   "outputs": [
    {
     "name": "stdout",
     "output_type": "stream",
     "text": [
      "Images shape: tf.Tensor([  1   6  58 224 224   1], shape=(6,), dtype=int32)\n",
      "Series descriptions shape: tf.Tensor([1 6], shape=(2,), dtype=int32)\n",
      "Label coordinates shape: tf.Tensor([1 6], shape=(2,), dtype=int32)\n",
      "Labels shape: tf.Tensor([ 1 25], shape=(2,), dtype=int32)\n",
      "Subdir 0 image tensor shape: tf.Tensor([  6  58 224 224   1], shape=(5,), dtype=int32)\n"
     ]
    },
    {
     "name": "stderr",
     "output_type": "stream",
     "text": [
      "2024-07-21 23:26:10.511467: W tensorflow/core/framework/local_rendezvous.cc:404] Local rendezvous is aborting with status: OUT_OF_RANGE: End of sequence\n"
     ]
    }
   ],
   "source": [
    "vutil.print_dataset_info(train_dataset, print_labels=True)"
   ]
  }
 ],
 "metadata": {
  "kernelspec": {
   "display_name": "base",
   "language": "python",
   "name": "python3"
  },
  "language_info": {
   "codemirror_mode": {
    "name": "ipython",
    "version": 3
   },
   "file_extension": ".py",
   "mimetype": "text/x-python",
   "name": "python",
   "nbconvert_exporter": "python",
   "pygments_lexer": "ipython3",
   "version": "3.11.9"
  }
 },
 "nbformat": 4,
 "nbformat_minor": 2
}
