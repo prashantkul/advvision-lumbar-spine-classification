{
 "cells": [
  {
   "cell_type": "markdown",
   "metadata": {},
   "source": [
    "# Test notebook\n"
   ]
  },
  {
   "cell_type": "code",
   "execution_count": 4,
   "metadata": {},
   "outputs": [],
   "source": [
    "%load_ext autoreload\n",
    "%autoreload 1"
   ]
  },
  {
   "cell_type": "code",
   "execution_count": 2,
   "metadata": {},
   "outputs": [
    {
     "name": "stderr",
     "output_type": "stream",
     "text": [
      "2024-08-01 22:01:54.929589: I tensorflow/core/platform/cpu_feature_guard.cc:210] This TensorFlow binary is optimized to use available CPU instructions in performance-critical operations.\n",
      "To enable the following instructions: SSE4.1 SSE4.2 AVX AVX2 FMA, in other operations, rebuild TensorFlow with the appropriate compiler flags.\n"
     ]
    },
    {
     "name": "stdout",
     "output_type": "stream",
     "text": [
      "Python version: 3.11.9 | packaged by conda-forge | (main, Apr 19 2024, 18:36:13) [GCC 12.3.0]\n",
      "TensorFlow version: 2.16.1\n"
     ]
    }
   ],
   "source": [
    "import sys\n",
    "import tensorflow as tf\n",
    "print(\"Python version:\", sys.version)\n",
    "print(\"TensorFlow version:\", tf.__version__)"
   ]
  },
  {
   "cell_type": "code",
   "execution_count": null,
   "metadata": {},
   "outputs": [],
   "source": [
    "from vision_models.utils import VisionUtils\n",
    "\n",
    "vutil = VisionUtils()    \n",
    "vutil.set_seed()\n",
    "vutil.print_python_version()\n",
    "vutil.print_tf_version()\n",
    "vutil.print_tf_gpu_support()"
   ]
  },
  {
   "cell_type": "code",
   "execution_count": 5,
   "metadata": {},
   "outputs": [],
   "source": [
    "from vision_models import constants\n",
    "from vision_models.imageloader import ImageLoader\n",
    "from vision_models.utils import VisionUtils\n",
    "\n",
    "\n",
    "vutil1 = VisionUtils()    \n",
    "\n",
    "loader = ImageLoader(label_coordinates_csv=constants.TRAIN_LABEL_CORD_PATH, labels_csv=constants.TRAIN_LABEL_PATH, \n",
    "                              image_dir=constants.TRAIN_DATA_PATH, roi_size=(224, 224), batch_size=1)\n",
    "\n",
    "#loader._analyze_splits()\n"
   ]
  },
  {
   "cell_type": "code",
   "execution_count": 2,
   "metadata": {},
   "outputs": [
    {
     "name": "stdout",
     "output_type": "stream",
     "text": [
      "Dataset is created, setting batch size\n",
      "Batching dataset to : 1\n",
      "Dataset created, you can now iterate over the dataset\n"
     ]
    },
    {
     "name": "stderr",
     "output_type": "stream",
     "text": [
      "2024-08-03 19:33:16.535473: E external/local_xla/xla/stream_executor/cuda/cuda_driver.cc:282] failed call to cuInit: CUDA_ERROR_NO_DEVICE: no CUDA-capable device is detected\n"
     ]
    }
   ],
   "source": [
    "val_dataset = loader.load_data(\"val\")"
   ]
  },
  {
   "cell_type": "code",
   "execution_count": 3,
   "metadata": {},
   "outputs": [
    {
     "name": "stdout",
     "output_type": "stream",
     "text": [
      "****************************************************************************************************\n",
      "Going to generate feature for study_id: 4283570761, series_id: 2708429184, condition: Right Neural Foraminal Narrowing, level: L4/L5\n",
      "Preprocessing images\n",
      "Reading images from /opt/dataset/train_images//4283570761/2708429184\n",
      "Number of images in series: 18\n",
      "Padding tensor to 192 images\n",
      "Feature tensor generated, size: (192, 224, 224, 3), now generating label\n",
      "Label generated\n",
      "One hot vector generated: [0.0, 0.0, 0.0, 0.0, 0.0, 0.0, 0.0, 0.0, 0.0, 0.0, 0.0, 0.0, 0.0, 1.0, 0.0, 0.0, 0.0, 0.0, 0.0, 0.0, 0.0, 0.0, 0.0, 0.0, 0.0]\n",
      "    study_id   series_id  instance_number                         condition  \\\n",
      "0    4003253   702807833                8             Spinal Canal Stenosis   \n",
      "1    4003253   702807833                8             Spinal Canal Stenosis   \n",
      "2    4003253   702807833                8             Spinal Canal Stenosis   \n",
      "3    4003253   702807833                8             Spinal Canal Stenosis   \n",
      "4    4003253   702807833                8             Spinal Canal Stenosis   \n",
      "5    4003253  1054713880                4  Right Neural Foraminal Narrowing   \n",
      "6    4003253  1054713880                4  Right Neural Foraminal Narrowing   \n",
      "7    4003253  1054713880                5  Right Neural Foraminal Narrowing   \n",
      "8    4003253  1054713880                6  Right Neural Foraminal Narrowing   \n",
      "9    4003253  1054713880                6  Right Neural Foraminal Narrowing   \n",
      "10   4003253  1054713880               11   Left Neural Foraminal Narrowing   \n",
      "11   4003253  1054713880               11   Left Neural Foraminal Narrowing   \n",
      "12   4003253  1054713880               11   Left Neural Foraminal Narrowing   \n",
      "13   4003253  1054713880               12   Left Neural Foraminal Narrowing   \n",
      "14   4003253  1054713880               12   Left Neural Foraminal Narrowing   \n",
      "15   4003253  2448190387                3        Left Subarticular Stenosis   \n",
      "16   4003253  2448190387                4       Right Subarticular Stenosis   \n",
      "17   4003253  2448190387               11        Left Subarticular Stenosis   \n",
      "18   4003253  2448190387               11       Right Subarticular Stenosis   \n",
      "19   4003253  2448190387               19        Left Subarticular Stenosis   \n",
      "20   4003253  2448190387               19       Right Subarticular Stenosis   \n",
      "21   4003253  2448190387               28        Left Subarticular Stenosis   \n",
      "22   4003253  2448190387               28       Right Subarticular Stenosis   \n",
      "23   4003253  2448190387               35        Left Subarticular Stenosis   \n",
      "24   4003253  2448190387               35       Right Subarticular Stenosis   \n",
      "\n",
      "    level           x           y                                   label  \n",
      "0   L1/L2  322.831858  227.964602             spinal_canal_stenosis_l1_l2  \n",
      "1   L2/L3  320.571429  295.714286             spinal_canal_stenosis_l2_l3  \n",
      "2   L3/L4  323.030303  371.818182             spinal_canal_stenosis_l3_l4  \n",
      "3   L4/L5  335.292035  427.327434             spinal_canal_stenosis_l4_l5  \n",
      "4   L5/S1  353.415929  483.964602             spinal_canal_stenosis_l5_s1  \n",
      "5   L4/L5  187.961759  251.839388  right_neural_foraminal_narrowing_l4_l5  \n",
      "6   L5/S1  198.240918  285.613767  right_neural_foraminal_narrowing_l5_s1  \n",
      "7   L3/L4  187.227533  210.722753  right_neural_foraminal_narrowing_l3_l4  \n",
      "8   L1/L2  194.569790  127.755258  right_neural_foraminal_narrowing_l1_l2  \n",
      "9   L2/L3  191.632887  165.934990  right_neural_foraminal_narrowing_l2_l3  \n",
      "10  L1/L2  196.070671  126.021201   left_neural_foraminal_narrowing_l1_l2  \n",
      "11  L4/L5  186.504472  251.592129   left_neural_foraminal_narrowing_l4_l5  \n",
      "12  L5/S1  197.100569  289.457306   left_neural_foraminal_narrowing_l5_s1  \n",
      "13  L2/L3  191.321555  170.120141   left_neural_foraminal_narrowing_l2_l3  \n",
      "14  L3/L4  187.878354  217.245081   left_neural_foraminal_narrowing_l3_l4  \n",
      "15  L1/L2  179.126448  161.235521        left_subarticular_stenosis_l1_l2  \n",
      "16  L1/L2  145.288771  158.624642       right_subarticular_stenosis_l1_l2  \n",
      "17  L2/L3  180.979730  158.764479        left_subarticular_stenosis_l2_l3  \n",
      "18  L2/L3  145.900042  157.096466       right_subarticular_stenosis_l2_l3  \n",
      "19  L3/L4  176.037645  157.528958        left_subarticular_stenosis_l3_l4  \n",
      "20  L3/L4  142.843690  156.179561       right_subarticular_stenosis_l3_l4  \n",
      "21  L4/L5  172.948842  156.911197        left_subarticular_stenosis_l4_l5  \n",
      "22  L4/L5  147.428218  158.013372       right_subarticular_stenosis_l4_l5  \n",
      "23  L5/S1  179.744208  161.853282        left_subarticular_stenosis_l5_s1  \n",
      "24  L5/S1  145.900042  161.375358       right_subarticular_stenosis_l5_s1  \n",
      "Indices with ones in label vector:  []\n",
      "Human-readable labels: []\n",
      "Returning feature and label tensors\n",
      "(1, 192, 224, 224, 3)\n",
      "(1, 25)\n",
      "tf.Tensor(\n",
      "[[0. 0. 0. 0. 0. 0. 0. 0. 0. 0. 0. 0. 0. 1. 0. 0. 0. 0. 0. 0. 0. 0. 0. 0.\n",
      "  0.]], shape=(1, 25), dtype=float32)\n"
     ]
    },
    {
     "name": "stderr",
     "output_type": "stream",
     "text": [
      "2024-08-03 19:33:20.778213: W tensorflow/core/framework/local_rendezvous.cc:404] Local rendezvous is aborting with status: OUT_OF_RANGE: End of sequence\n"
     ]
    }
   ],
   "source": [
    "for img, labels in val_dataset.take(1):\n",
    "    print(img.shape)\n",
    "    print(labels.shape)\n",
    "    print(labels)"
   ]
  },
  {
   "cell_type": "code",
   "execution_count": null,
   "metadata": {},
   "outputs": [],
   "source": [
    "from vision_models.densenetmodel import DenseNetVisionModel\n",
    "import tensorflow as tf\n",
    "\n",
    "# Make sure input_shape is fully defined\n",
    "input_shape = (224,224,3)\n",
    "\n",
    "# Create an instance of the model\n",
    "model = DenseNetVisionModel(num_classes=25, input_shape=input_shape, weights='imagenet')\n",
    "\n",
    "# Compile the model\n",
    "model.compile(optimizer='adam', loss='categorical_crossentropy', metrics=['accuracy'])\n",
    "\n",
    "# Build the model with a sample input\n",
    "sample_input = tf.keras.Input(shape=input_shape)\n",
    "model(sample_input)"
   ]
  },
  {
   "cell_type": "code",
   "execution_count": null,
   "metadata": {},
   "outputs": [],
   "source": [
    "from vision_models.densenetmodel import ModelTrainer\n",
    "\n",
    "# Use the original model\n",
    "trainer = ModelTrainer(model)\n",
    "\n",
    "history = trainer.train(train_dataset, val_dataset, epochs=5)"
   ]
  },
  {
   "cell_type": "code",
   "execution_count": null,
   "metadata": {},
   "outputs": [],
   "source": []
  }
 ],
 "metadata": {
  "kernelspec": {
   "display_name": "base",
   "language": "python",
   "name": "python3"
  },
  "language_info": {
   "codemirror_mode": {
    "name": "ipython",
    "version": 3
   },
   "file_extension": ".py",
   "mimetype": "text/x-python",
   "name": "python",
   "nbconvert_exporter": "python",
   "pygments_lexer": "ipython3",
   "version": "3.11.9"
  }
 },
 "nbformat": 4,
 "nbformat_minor": 2
}
